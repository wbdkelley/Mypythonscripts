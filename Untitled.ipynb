{
 "cells": [
  {
   "cell_type": "code",
   "execution_count": null,
   "id": "42866758",
   "metadata": {},
   "outputs": [],
   "source": [
    "# List of characters to remove\n",
    "chars_to_remove = [('+', ',' , '$')]\n",
    "# List of column names to clean\n",
    "cols_to_clean = ['Installs', 'Price']\n",
    "\n",
    "# Loop for each column in cols_to_clean\n",
    "for col in cols_to_clean:\n",
    "    # Loop for each char in chars_to_remove\n",
    "    for char in chars_to_remove:\n",
    "        # Replace the character with an empty string\n",
    "        apps[col] = apps[cols_to_clean].apply(lambda x: x.replace(chars_to_remove, ''))\n",
    "        \n",
    "# Print a summary of the apps dataframe\n",
    "print(apps.info())"
   ]
  },
  {
   "cell_type": "code",
   "execution_count": null,
   "id": "a4185d9e",
   "metadata": {},
   "outputs": [],
   "source": [
    "import plotly\n",
    "plotly.offline.init_notebook_mode(connected=True)\n",
    "import plotly.graph_objs as go\n",
    "\n",
    "# Print the total number of unique categories\n",
    "num_categories = apps['Category'].nunique()\n",
    "print('Number of categories = ', num_categories)\n",
    "\n",
    "# Count the number of apps in each 'Category'. \n",
    "num_apps_in_category = apps['Category'].value_counts()\n",
    "\n",
    "# Sort num_apps_in_category in descending order based on the count of apps in each category\n",
    "sorted_num_apps_in_category = apps.sort_values(by=['Category'])\n",
    "#df.sort_values(by=['col1'])\n",
    "data = [go.Bar(\n",
    "        x = num_apps_in_category.index, # index = category name\n",
    "        y = num_apps_in_category.values, # value = count\n",
    ")]\n",
    "\n",
    "plotly.offline.iplot(data)"
   ]
  },
  {
   "cell_type": "code",
   "execution_count": null,
   "id": "a477ccba",
   "metadata": {},
   "outputs": [],
   "source": [
    "%matplotlib inline\n",
    "import seaborn as sns\n",
    "sns.set_style(\"darkgrid\")\n",
    "import warnings\n",
    "warnings.filterwarnings(\"ignore\")\n",
    "\n",
    "# Select rows where both 'Rating' and 'Size' values are present (ie. the two values are not null)\n",
    "#apps_with_size_and_rating_present = apps[(~apps['Rating'].notnull()) & (~apps['Size'].notnull())]\n",
    "apps_with_size_and_rating_present = apps[(~apps['Rating'].isnull()) & (~apps['Size'].isnull())]\n",
    "\n",
    "# Subset for categories with at least 250 apps\n",
    "large_categories = apps_with_size_and_rating_present.groupby('Size').filter(lambda x: len(x) >= 250)\n",
    "\n",
    "# Plot size vs. rating\n",
    "plt1 = sns.jointplot(x = large_categories['Rating'], y = large_categories['Size'])\n",
    "\n",
    "# Select apps whose 'Type' is 'Paid'\n",
    "paid_apps = large_categories['Type'] == 'Paid'\n",
    "\n",
    "# Plot price vs. rating\n",
    "plt2 = sns.jointplot(x = paid_apps['Rating'], y = paid_apps['Price'])"
   ]
  }
 ],
 "metadata": {
  "kernelspec": {
   "display_name": "Python 3",
   "language": "python",
   "name": "python3"
  },
  "language_info": {
   "codemirror_mode": {
    "name": "ipython",
    "version": 3
   },
   "file_extension": ".py",
   "mimetype": "text/x-python",
   "name": "python",
   "nbconvert_exporter": "python",
   "pygments_lexer": "ipython3",
   "version": "3.7.10"
  }
 },
 "nbformat": 4,
 "nbformat_minor": 5
}
